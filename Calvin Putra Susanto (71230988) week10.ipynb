{
 "cells": [
  {
   "cell_type": "code",
   "execution_count": 1,
   "id": "225d671e",
   "metadata": {},
   "outputs": [
    {
     "name": "stdout",
     "output_type": "stream",
     "text": [
      "[95, 97, 100]\n"
     ]
    }
   ],
   "source": [
    "# latihan 9.1\n",
    "nilai = [20, 100, 95, 90, 88, 93, 97, 20]\n",
    "nilai.sort()\n",
    "print(nilai[-3:])"
   ]
  },
  {
   "cell_type": "code",
   "execution_count": 2,
   "id": "60bd4734",
   "metadata": {},
   "outputs": [
    {
     "name": "stdout",
     "output_type": "stream",
     "text": [
      "Masukkan sebuah angka, lalu ketik 'done' untuk memunculkan nilai maks dan min \n",
      ">> 10\n",
      "Masukkan sebuah angka, lalu ketik 'done' untuk memunculkan nilai maks dan min \n",
      ">> 20\n",
      "Masukkan sebuah angka, lalu ketik 'done' untuk memunculkan nilai maks dan min \n",
      ">> 30\n",
      "Masukkan sebuah angka, lalu ketik 'done' untuk memunculkan nilai maks dan min \n",
      ">> done\n",
      "Maksimum = 30\n",
      "Minimum = 10\n"
     ]
    }
   ],
   "source": [
    "# latihan 9.2\n",
    "hasil = []\n",
    "while True:\n",
    "    inputan = input(\"Masukkan sebuah angka, lalu ketik 'done' untuk memunculkan nilai maks dan min \\n>> \")\n",
    "    if inputan.isdigit():\n",
    "        hasil.append(inputan)\n",
    "    else:\n",
    "        print(f\"Maksimum = {max(hasil)}\")\n",
    "        print(f\"Minimum = {min(hasil)}\")\n",
    "        break"
   ]
  },
  {
   "cell_type": "code",
   "execution_count": null,
   "id": "e5034481",
   "metadata": {},
   "outputs": [],
   "source": [
    "# latihan 9.3\n",
    "file = open(\"berita.txt\", \"r\")\n",
    "kata = []\n",
    "kataUnik = []\n",
    "\n",
    "for line in file:\n",
    "    kataBaris = line.strip().split(\".\")\n",
    "    for kata1 in kataBaris:\n",
    "        kata.extend(kata1.split(\" \"))\n",
    "\n",
    "for kata1 in kata:\n",
    "    if kata1 not in kataUnik:\n",
    "        kataUnik.append(kata1)\n",
    "\n",
    "print(\"==============ISI BERITA==================\")\n",
    "print(line)\n",
    "\n",
    "print(\"=================KATA UNIK===============\")\n",
    "print(kataUnik)"
   ]
  }
 ],
 "metadata": {
  "kernelspec": {
   "display_name": "Python 3 (ipykernel)",
   "language": "python",
   "name": "python3"
  },
  "language_info": {
   "codemirror_mode": {
    "name": "ipython",
    "version": 3
   },
   "file_extension": ".py",
   "mimetype": "text/x-python",
   "name": "python",
   "nbconvert_exporter": "python",
   "pygments_lexer": "ipython3",
   "version": "3.11.5"
  }
 },
 "nbformat": 4,
 "nbformat_minor": 5
}
